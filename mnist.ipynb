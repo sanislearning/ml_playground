{
  "nbformat": 4,
  "nbformat_minor": 0,
  "metadata": {
    "colab": {
      "provenance": [],
      "authorship_tag": "ABX9TyM69AyTdk/jhtNXlbetY/Xz",
      "include_colab_link": true
    },
    "kernelspec": {
      "name": "python3",
      "display_name": "Python 3"
    },
    "language_info": {
      "name": "python"
    }
  },
  "cells": [
    {
      "cell_type": "markdown",
      "metadata": {
        "id": "view-in-github",
        "colab_type": "text"
      },
      "source": [
        "<a href=\"https://colab.research.google.com/github/sanislearning/ml_playground/blob/main/mnist.ipynb\" target=\"_parent\"><img src=\"https://colab.research.google.com/assets/colab-badge.svg\" alt=\"Open In Colab\"/></a>"
      ]
    },
    {
      "cell_type": "code",
      "execution_count": 2,
      "metadata": {
        "id": "cMQU8SBHfVSa"
      },
      "outputs": [],
      "source": [
        "import numpy as np\n",
        "import pandas as pd\n",
        "import matplotlib.pyplot as plt\n",
        "import seaborn as sns\n",
        "from google.colab import drive"
      ]
    },
    {
      "cell_type": "code",
      "source": [
        "drive.mount(\"/content/drive\")\n",
        "file_path='/content/drive/MyDrive/PData/mnist/train-images.idx3-ubyte'"
      ],
      "metadata": {
        "id": "9LWTh6zWfgNf",
        "colab": {
          "base_uri": "https://localhost:8080/"
        },
        "outputId": "2f53be95-a348-4dea-aca3-632ae7a6795f"
      },
      "execution_count": 3,
      "outputs": [
        {
          "output_type": "stream",
          "name": "stdout",
          "text": [
            "Mounted at /content/drive\n"
          ]
        }
      ]
    },
    {
      "cell_type": "code",
      "source": [
        "import struct #helps interpret bytes as packed binary data, lets us read IDX file format\n",
        "with open(file_path,'rb') as f: #rb means read binary\n",
        "  #Read the magic number and dimensions\n",
        "  magic,num_images,rows,cols=struct.unpack('>IIII',f.read(16))\n",
        "  #f.read(16) means that you read first 16 bytes, ie header of IDX file, ie metadata of file\n",
        "  #struct.unpack('>IIII',...) interprets those 16 bytes as 4 big-endian unsigned integers\n",
        "  # > =  Big endian (most significant byte first)\n",
        "\n",
        "  print(\"Magic Number: \",magic)\n",
        "  print(\"Number of Images: \",num_images)\n",
        "  print(\"Image Size: \",rows,\"x\",cols)\n",
        "  image_bytes=f.read(rows*cols)  #reads only the first image\n",
        "  image=np.frombuffer(image_bytes,dtype=np.uint8).reshape((rows,cols))\n",
        "  #converts the bytes into a NumPy array and then reshapes it into a 2D array of shape"
      ],
      "metadata": {
        "colab": {
          "base_uri": "https://localhost:8080/"
        },
        "id": "Y2e2b9O87ZYX",
        "outputId": "1f561913-2274-42fe-f3c9-31a4d0ba1701"
      },
      "execution_count": 4,
      "outputs": [
        {
          "output_type": "stream",
          "name": "stdout",
          "text": [
            "Magic Number:  2051\n",
            "Number of Images:  60000\n",
            "Image Size:  28 x 28\n"
          ]
        }
      ]
    },
    {
      "cell_type": "code",
      "source": [
        "#Visualizing the Image\n",
        "plt.imshow(image,cmap='gray')\n",
        "plt.title(\"First Image\")\n",
        "plt.axis('off')\n",
        "plt.show()"
      ],
      "metadata": {
        "colab": {
          "base_uri": "https://localhost:8080/",
          "height": 428
        },
        "id": "IuYU8LaQD10v",
        "outputId": "94617ed3-932c-4863-c832-a9975a515561"
      },
      "execution_count": 5,
      "outputs": [
        {
          "output_type": "display_data",
          "data": {
            "text/plain": [
              "<Figure size 640x480 with 1 Axes>"
            ],
            "image/png": "[encoded data removed]"
          },
          "metadata": {}
        }
      ]
    },
    {
      "cell_type": "code",
      "source": [],
      "metadata": {
        "id": "h2WyRqGmECN_"
      },
      "execution_count": null,
      "outputs": []
    }
  ]
}