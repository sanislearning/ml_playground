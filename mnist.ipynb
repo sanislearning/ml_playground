{
  "nbformat": 4,
  "nbformat_minor": 0,
  "metadata": {
    "colab": {
      "provenance": [],
      "authorship_tag": "ABX9TyPsZTAWKPHrG4o0qFKhva2/",
      "include_colab_link": true
    },
    "kernelspec": {
      "name": "python3",
      "display_name": "Python 3"
    },
    "language_info": {
      "name": "python"
    }
  },
  "cells": [
    {
      "cell_type": "markdown",
      "metadata": {
        "id": "view-in-github",
        "colab_type": "text"
      },
      "source": [
        "<a href=\"https://colab.research.google.com/github/sanislearning/ml_playground/blob/main/mnist.ipynb\" target=\"_parent\"><img src=\"https://colab.research.google.com/assets/colab-badge.svg\" alt=\"Open In Colab\"/></a>"
      ]
    },
    {
      "cell_type": "code",
      "execution_count": 1,
      "metadata": {
        "id": "cMQU8SBHfVSa"
      },
      "outputs": [],
      "source": [
        "import numpy as np\n",
        "import pandas as pd\n",
        "import matplotlib.pyplot as plt\n",
        "import seaborn as sns\n",
        "from google.colab import drive\n"
      ]
    },
    {
      "cell_type": "code",
      "source": [
        "drive.mount(\"/content/drive\")\n",
        "file_path='/content/drive/MyDrive/PData/mnist/train-images.idx3-ubyte'"
      ],
      "metadata": {
        "id": "9LWTh6zWfgNf",
        "colab": {
          "base_uri": "https://localhost:8080/"
        },
        "outputId": "0812a31e-8a99-41f0-ef30-d1826e481274"
      },
      "execution_count": 3,
      "outputs": [
        {
          "output_type": "stream",
          "name": "stdout",
          "text": [
            "Drive already mounted at /content/drive; to attempt to forcibly remount, call drive.mount(\"/content/drive\", force_remount=True).\n"
          ]
        }
      ]
    },
    {
      "cell_type": "code",
      "source": [
        "import struct #helps interpret bytes as packed binary data, lets us read IDX file format\n",
        "with open(file_path,'rb') as f: #rb means read binary\n",
        "  #Read the magic number and dimensions\n",
        "  magic,num_images,rows,cols=struct.unpack('>IIII',f.read(16))\n",
        "  #f.read(16) means that you read first 16 bytes, ie header of IDX file, ie metadata of file\n",
        "  #struct.unpack('>IIII',...) interprets those 16 bytes as 4 big-endian unsigned integers\n",
        "  # > =  Big endian (most significant byte first)\n",
        "\n",
        "  print(\"Magic Number: \",magic)\n",
        "  print(\"Number of Images: \",num_images)\n",
        "  print(\"Image Size: \",rows,\"x\",cols)\n",
        "  image_bytes=f.read(rows*cols)  #reads only the first image\n",
        "  image=np.frombuffer(image_bytes,dtype=np.uint8).reshape((rows,cols))\n",
        "  #converts the bytes into a NumPy array and then reshapes it into a 2D array of shape"
      ],
      "metadata": {
        "colab": {
          "base_uri": "https://localhost:8080/"
        },
        "id": "Y2e2b9O87ZYX",
        "outputId": "c66a2641-d148-42f5-da07-f49fa2552df8"
      },
      "execution_count": 4,
      "outputs": [
        {
          "output_type": "stream",
          "name": "stdout",
          "text": [
            "Magic Number:  2051\n",
            "Number of Images:  60000\n",
            "Image Size:  28 x 28\n"
          ]
        }
      ]
    },
    {
      "cell_type": "code",
      "source": [
        "#Visualizing the Image\n",
        "plt.imshow(image,cmap='gray')\n",
        "plt.title(\"First Image\")\n",
        "plt.axis('off')\n",
        "plt.show()"
      ],
      "metadata": {
        "colab": {
          "base_uri": "https://localhost:8080/",
          "height": 428
        },
        "id": "IuYU8LaQD10v",
        "outputId": "1e352f22-e045-4272-d392-7ecfa54d257c"
      },
      "execution_count": 5,
      "outputs": [
        {
          "output_type": "display_data",
          "data": {
            "text/plain": [
              "<Figure size 640x480 with 1 Axes>"
            ],
            "image/png": "[encoded data removed]"
          },
          "metadata": {}
        }
      ]
    },
    {
      "cell_type": "code",
      "source": [
        "with open(file_path,'rb') as f: #read binary format\n",
        "  f.read(16) #skips the header\n",
        "  image_data=f.read(num_images*rows*cols)\n",
        "\n",
        "images=np.frombuffer(image_data,dtype=np.uint8) #converts the raw bytes into a NumPy array, interpret each byte as an unsigned 8-bit integer\n",
        "images=images.reshape((num_images,rows,cols)) #It's a 3D array. It has 60000 images, each 28th rows high and 28 columns wide"
      ],
      "metadata": {
        "id": "h2WyRqGmECN_"
      },
      "execution_count": 6,
      "outputs": []
    },
    {
      "cell_type": "code",
      "source": [
        "import random\n",
        "\n",
        "plt.figure(figsize=(10, 5))\n",
        "for i in range(10):\n",
        "    idx = random.randint(0, 59999)\n",
        "    plt.subplot(2, 5, i+1)\n",
        "    plt.imshow(images[idx], cmap='gray')\n",
        "    plt.title(f\"Image #{idx}\")\n",
        "    plt.axis('off')\n",
        "plt.show()"
      ],
      "metadata": {
        "colab": {
          "base_uri": "https://localhost:8080/",
          "height": 329
        },
        "id": "GZbQ59LqcMRm",
        "outputId": "d78451a5-90d0-47b5-9c2a-48c8ea99b875"
      },
      "execution_count": 7,
      "outputs": [
        {
          "output_type": "display_data",
          "data": {
            "text/plain": [
              "<Figure size 1000x500 with 10 Axes>"
            ],
            "image/png": "[encoded data removed]"
          },
          "metadata": {}
        }
      ]
    },
    {
      "cell_type": "code",
      "source": [
        "images=images/255.0"
      ],
      "metadata": {
        "id": "Fp6fbPmnjaHK"
      },
      "execution_count": 8,
      "outputs": []
    },
    {
      "cell_type": "markdown",
      "source": [
        "#Load the Labels"
      ],
      "metadata": {
        "id": "Gee_UpCzoClm"
      }
    },
    {
      "cell_type": "code",
      "source": [
        "label_file_path='/content/drive/MyDrive/PData/mnist/train-labels.idx1-ubyte'\n",
        "\n",
        "with open(label_file_path,'rb') as f:\n",
        "  magic,num_labels=struct.unpack('>II',f.read(8))\n",
        "  print(\"Magic Number: \",magic)\n",
        "  print(\"Number of Labels: \",num_labels)\n",
        "\n",
        "  #Read the rest of the file - each label is 1 byte\n",
        "  label_bytes=f.read(num_labels)\n",
        "  #Convert to a NumPy array of unsigned 8-bit intergers\n",
        "  labels=np.frombuffer(label_bytes,dtype=np.uint8)"
      ],
      "metadata": {
        "colab": {
          "base_uri": "https://localhost:8080/"
        },
        "id": "dDoNtN82oBAG",
        "outputId": "dd801dd2-21e3-471f-ec9a-ea4f46165094"
      },
      "execution_count": 9,
      "outputs": [
        {
          "output_type": "stream",
          "name": "stdout",
          "text": [
            "Magic Number:  2049\n",
            "Number of Labels:  60000\n"
          ]
        }
      ]
    },
    {
      "cell_type": "code",
      "source": [
        "x=images.reshape((num_images,28*28)) # each image becomes a 784-length vector"
      ],
      "metadata": {
        "id": "qVFdLsFMpvp6"
      },
      "execution_count": 10,
      "outputs": []
    },
    {
      "cell_type": "code",
      "source": [
        "from sklearn.model_selection import train_test_split\n",
        "\n",
        "x_train,x_val,y_train,y_val=train_test_split(x,labels,test_size=0.2,random_state=42)\n",
        "#x_train,y_train is used for training\n",
        "#x_val,y_val is used for validation/testing"
      ],
      "metadata": {
        "id": "kZSJcsBbtAuk"
      },
      "execution_count": 11,
      "outputs": []
    },
    {
      "cell_type": "markdown",
      "source": [
        "#Training and Evaluation"
      ],
      "metadata": {
        "id": "qaAOIdEDFafq"
      }
    },
    {
      "cell_type": "markdown",
      "source": [
        "##LogisticRegression"
      ],
      "metadata": {
        "id": "0qOJlfzeqQqV"
      }
    },
    {
      "cell_type": "code",
      "source": [
        "from sklearn.metrics import accuracy_score,classification_report\n",
        "from sklearn.model_selection import GridSearchCV"
      ],
      "metadata": {
        "id": "XMLVt6yVC7fK"
      },
      "execution_count": 12,
      "outputs": []
    },
    {
      "cell_type": "code",
      "source": [
        "from sklearn.linear_model import LogisticRegression\n",
        "model=LogisticRegression(max_iter=1000)\n",
        "model.fit(x_train,y_train)\n",
        "y_pred=model.predict(x_val)"
      ],
      "metadata": {
        "id": "AVX2GnNtFnaU"
      },
      "execution_count": 13,
      "outputs": []
    },
    {
      "cell_type": "code",
      "source": [
        "print(accuracy_score(y_val,y_pred)*100)"
      ],
      "metadata": {
        "colab": {
          "base_uri": "https://localhost:8080/"
        },
        "id": "TKTmfTdMF11R",
        "outputId": "e72152da-f430-4c58-c14a-ce9087c2ecd4"
      },
      "execution_count": 18,
      "outputs": [
        {
          "output_type": "stream",
          "name": "stdout",
          "text": [
            "92.20833333333334\n"
          ]
        }
      ]
    },
    {
      "cell_type": "code",
      "source": [
        "model = LogisticRegression(C=1.0, solver='lbfgs', penalty='l2', max_iter=1000, n_jobs=-1)\n",
        "model.fit(x_train, y_train)\n",
        "y_pred=model.predict(x_val)"
      ],
      "metadata": {
        "id": "7eqaW0fmL4Pj"
      },
      "execution_count": 15,
      "outputs": []
    },
    {
      "cell_type": "code",
      "source": [
        "print(accuracy_score(y_val,y_pred)*100)"
      ],
      "metadata": {
        "colab": {
          "base_uri": "https://localhost:8080/"
        },
        "id": "DPijxmdhnEdo",
        "outputId": "9dbe2ff1-78ce-4890-cc4d-6a6cfe4d8f93"
      },
      "execution_count": 17,
      "outputs": [
        {
          "output_type": "stream",
          "name": "stdout",
          "text": [
            "92.20833333333334\n"
          ]
        }
      ]
    },
    {
      "cell_type": "markdown",
      "source": [
        "##RandomForest"
      ],
      "metadata": {
        "id": "cpmD7GRFqXQO"
      }
    },
    {
      "cell_type": "code",
      "source": [
        "from sklearn.ensemble import RandomForestClassifier"
      ],
      "metadata": {
        "id": "UWq0Lz1MpB12"
      },
      "execution_count": 19,
      "outputs": []
    },
    {
      "cell_type": "code",
      "source": [
        "rf=RandomForestClassifier(n_estimators=100)\n",
        "rf.fit(x_train,y_train)\n",
        "y_pred=rf.predict(x_val)\n",
        "print(f\"Random Forest Accuracy: {accuracy_score(y_val,y_pred)*100:.2f}\")"
      ],
      "metadata": {
        "colab": {
          "base_uri": "https://localhost:8080/"
        },
        "id": "n1WEcfzFqn7C",
        "outputId": "3e43c3a6-a74c-4301-c176-f43a00973f84"
      },
      "execution_count": 21,
      "outputs": [
        {
          "output_type": "stream",
          "name": "stdout",
          "text": [
            "Random Forest Accuracy: 96.86\n"
          ]
        }
      ]
    },
    {
      "cell_type": "markdown",
      "source": [
        "##Support Vector Machine (SVM)"
      ],
      "metadata": {
        "id": "q4_tkF6FuQ_a"
      }
    },
    {
      "cell_type": "code",
      "source": [
        "from sklearn.svm import SVC\n",
        "\n",
        "model=SVC()\n",
        "model.fit(x_train,y_train)\n",
        "y_pred=model.predict(x_val)"
      ],
      "metadata": {
        "id": "SoI-eRVerf5w"
      },
      "execution_count": 23,
      "outputs": []
    },
    {
      "cell_type": "code",
      "source": [
        "print(f\"SVM Accuracy: {accuracy_score(y_val,y_pred)*100:.2f}\")"
      ],
      "metadata": {
        "colab": {
          "base_uri": "https://localhost:8080/"
        },
        "id": "44iJdqjpu5do",
        "outputId": "aec8fcd4-a132-48c4-d281-77c4297d4735"
      },
      "execution_count": 24,
      "outputs": [
        {
          "output_type": "stream",
          "name": "stdout",
          "text": [
            "SVM Accuracy: 97.76\n"
          ]
        }
      ]
    },
    {
      "cell_type": "markdown",
      "source": [
        "##Neural Network"
      ],
      "metadata": {
        "id": "a_HIDM7Vwhbc"
      }
    },
    {
      "cell_type": "code",
      "source": [
        "import tensorflow as tf"
      ],
      "metadata": {
        "id": "GVDZ4o0bwZR5"
      },
      "execution_count": null,
      "outputs": []
    }
  ]
}