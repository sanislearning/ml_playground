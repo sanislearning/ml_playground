{
  "nbformat": 4,
  "nbformat_minor": 0,
  "metadata": {
    "colab": {
      "provenance": [],
      "authorship_tag": "ABX9TyN5kBft9nlCfhhhwVSViQzQ",
      "include_colab_link": true
    },
    "kernelspec": {
      "name": "python3",
      "display_name": "Python 3"
    },
    "language_info": {
      "name": "python"
    }
  },
  "cells": [
    {
      "cell_type": "markdown",
      "metadata": {
        "id": "view-in-github",
        "colab_type": "text"
      },
      "source": [
        "<a href=\"https://colab.research.google.com/github/sanislearning/ml_playground/blob/main/mnist.ipynb\" target=\"_parent\"><img src=\"https://colab.research.google.com/assets/colab-badge.svg\" alt=\"Open In Colab\"/></a>"
      ]
    },
    {
      "cell_type": "code",
      "execution_count": 39,
      "metadata": {
        "id": "cMQU8SBHfVSa"
      },
      "outputs": [],
      "source": [
        "import numpy as np\n",
        "import pandas as pd\n",
        "import matplotlib.pyplot as plt\n",
        "import seaborn as sns\n",
        "from google.colab import drive\n"
      ]
    },
    {
      "cell_type": "code",
      "source": [
        "drive.mount(\"/content/drive\")\n",
        "file_path='/content/drive/MyDrive/PData/mnist/train-images.idx3-ubyte'"
      ],
      "metadata": {
        "id": "9LWTh6zWfgNf",
        "colab": {
          "base_uri": "https://localhost:8080/"
        },
        "outputId": "f663d46c-02f1-450d-d0b5-015967791203"
      },
      "execution_count": 40,
      "outputs": [
        {
          "output_type": "stream",
          "name": "stdout",
          "text": [
            "Drive already mounted at /content/drive; to attempt to forcibly remount, call drive.mount(\"/content/drive\", force_remount=True).\n"
          ]
        }
      ]
    },
    {
      "cell_type": "code",
      "source": [
        "import struct #helps interpret bytes as packed binary data, lets us read IDX file format\n",
        "with open(file_path,'rb') as f: #rb means read binary\n",
        "  #Read the magic number and dimensions\n",
        "  magic,num_images,rows,cols=struct.unpack('>IIII',f.read(16))\n",
        "  #f.read(16) means that you read first 16 bytes, ie header of IDX file, ie metadata of file\n",
        "  #struct.unpack('>IIII',...) interprets those 16 bytes as 4 big-endian unsigned integers\n",
        "  # > =  Big endian (most significant byte first)\n",
        "\n",
        "  print(\"Magic Number: \",magic)\n",
        "  print(\"Number of Images: \",num_images)\n",
        "  print(\"Image Size: \",rows,\"x\",cols)\n",
        "  image_bytes=f.read(rows*cols)  #reads only the first image\n",
        "  image=np.frombuffer(image_bytes,dtype=np.uint8).reshape((rows,cols))\n",
        "  #converts the bytes into a NumPy array and then reshapes it into a 2D array of shape"
      ],
      "metadata": {
        "colab": {
          "base_uri": "https://localhost:8080/"
        },
        "id": "Y2e2b9O87ZYX",
        "outputId": "00e6f67b-5dce-455a-fb4d-090175303949"
      },
      "execution_count": 41,
      "outputs": [
        {
          "output_type": "stream",
          "name": "stdout",
          "text": [
            "Magic Number:  2051\n",
            "Number of Images:  60000\n",
            "Image Size:  28 x 28\n"
          ]
        }
      ]
    },
    {
      "cell_type": "code",
      "source": [
        "#Visualizing the Image\n",
        "plt.imshow(image,cmap='gray')\n",
        "plt.title(\"First Image\")\n",
        "plt.axis('off')\n",
        "plt.show()"
      ],
      "metadata": {
        "colab": {
          "base_uri": "https://localhost:8080/",
          "height": 428
        },
        "id": "IuYU8LaQD10v",
        "outputId": "bd6df8b7-827c-46b6-b5a8-e50dbd4e6c86"
      },
      "execution_count": 42,
      "outputs": [
        {
          "output_type": "display_data",
          "data": {
            "text/plain": [
              "<Figure size 640x480 with 1 Axes>"
            ],
            "image/png": "[encoded data removed]"
          },
          "metadata": {}
        }
      ]
    },
    {
      "cell_type": "code",
      "source": [
        "with open(file_path,'rb') as f: #read binary format\n",
        "  f.read(16) #skips the header\n",
        "  image_data=f.read(num_images*rows*cols)\n",
        "\n",
        "images=np.frombuffer(image_data,dtype=np.uint8) #converts the raw bytes into a NumPy array, interpret each byte as an unsigned 8-bit integer\n",
        "images=images.reshape((num_images,rows,cols)) #It's a 3D array. It has 60000 images, each 28th rows high and 28 columns wide"
      ],
      "metadata": {
        "id": "h2WyRqGmECN_"
      },
      "execution_count": 43,
      "outputs": []
    },
    {
      "cell_type": "code",
      "source": [
        "import random\n",
        "\n",
        "plt.figure(figsize=(10, 5))\n",
        "for i in range(10):\n",
        "    idx = random.randint(0, 59999)\n",
        "    plt.subplot(2, 5, i+1)\n",
        "    plt.imshow(images[idx], cmap='gray')\n",
        "    plt.title(f\"Image #{idx}\")\n",
        "    plt.axis('off')\n",
        "plt.show()"
      ],
      "metadata": {
        "colab": {
          "base_uri": "https://localhost:8080/",
          "height": 329
        },
        "id": "GZbQ59LqcMRm",
        "outputId": "fed3c115-222c-4c5c-d25d-baa76ca05a73"
      },
      "execution_count": 44,
      "outputs": [
        {
          "output_type": "display_data",
          "data": {
            "text/plain": [
              "<Figure size 1000x500 with 10 Axes>"
            ],
            "image/png": "[encoded data removed]"
          },
          "metadata": {}
        }
      ]
    },
    {
      "cell_type": "code",
      "source": [
        "images=images/255.0"
      ],
      "metadata": {
        "id": "Fp6fbPmnjaHK"
      },
      "execution_count": 45,
      "outputs": []
    },
    {
      "cell_type": "markdown",
      "source": [
        "#Load the Labels"
      ],
      "metadata": {
        "id": "Gee_UpCzoClm"
      }
    },
    {
      "cell_type": "code",
      "source": [
        "label_file_path='/content/drive/MyDrive/PData/mnist/train-labels.idx1-ubyte'\n",
        "\n",
        "with open(label_file_path,'rb') as f:\n",
        "  magic,num_labels=struct.unpack('>II',f.read(8))\n",
        "  print(\"Magic Number: \",magic)\n",
        "  print(\"Number of Labels: \",num_labels)\n",
        "\n",
        "  #Read the rest of the file - each label is 1 byte\n",
        "  label_bytes=f.read(num_labels)\n",
        "  #Convert to a NumPy array of unsigned 8-bit intergers\n",
        "  labels=np.frombuffer(label_bytes,dtype=np.uint8)"
      ],
      "metadata": {
        "colab": {
          "base_uri": "https://localhost:8080/"
        },
        "id": "dDoNtN82oBAG",
        "outputId": "304c41ab-81c2-4b12-b24d-321d7511d5c6"
      },
      "execution_count": 46,
      "outputs": [
        {
          "output_type": "stream",
          "name": "stdout",
          "text": [
            "Magic Number:  2049\n",
            "Number of Labels:  60000\n"
          ]
        }
      ]
    },
    {
      "cell_type": "code",
      "source": [
        "x=images.reshape((num_images,28*28)) # each image becomes a 784-length vector"
      ],
      "metadata": {
        "id": "qVFdLsFMpvp6"
      },
      "execution_count": 47,
      "outputs": []
    },
    {
      "cell_type": "code",
      "source": [
        "from sklearn.model_selection import train_test_split\n",
        "\n",
        "x_train,x_val,y_train,y_val=train_test_split(x,labels,test_size=0.2,random_state=42)\n",
        "#x_train,y_train is used for training\n",
        "#x_val,y_val is used for validation/testing"
      ],
      "metadata": {
        "id": "kZSJcsBbtAuk"
      },
      "execution_count": 48,
      "outputs": []
    },
    {
      "cell_type": "markdown",
      "source": [
        "#Training and Evaluation"
      ],
      "metadata": {
        "id": "qaAOIdEDFafq"
      }
    },
    {
      "cell_type": "markdown",
      "source": [
        "##LogisticRegression"
      ],
      "metadata": {
        "id": "0qOJlfzeqQqV"
      }
    },
    {
      "cell_type": "code",
      "source": [
        "from sklearn.metrics import accuracy_score,classification_report\n",
        "from sklearn.model_selection import GridSearchCV"
      ],
      "metadata": {
        "id": "XMLVt6yVC7fK"
      },
      "execution_count": 49,
      "outputs": []
    },
    {
      "cell_type": "code",
      "source": [
        "from sklearn.linear_model import LogisticRegression\n",
        "model=LogisticRegression(max_iter=1000)\n",
        "model.fit(x_train,y_train)\n",
        "y_pred=model.predict(x_val)"
      ],
      "metadata": {
        "id": "AVX2GnNtFnaU"
      },
      "execution_count": 50,
      "outputs": []
    },
    {
      "cell_type": "code",
      "source": [
        "print(accuracy_score(y_val,y_pred)*100)"
      ],
      "metadata": {
        "colab": {
          "base_uri": "https://localhost:8080/"
        },
        "id": "TKTmfTdMF11R",
        "outputId": "bb0257b1-f59b-44a5-da6d-d26d447c61dd"
      },
      "execution_count": 51,
      "outputs": [
        {
          "output_type": "stream",
          "name": "stdout",
          "text": [
            "92.23333333333333\n"
          ]
        }
      ]
    },
    {
      "cell_type": "code",
      "source": [
        "model = LogisticRegression(C=1.0, solver='lbfgs', penalty='l2', max_iter=1000, n_jobs=-1)\n",
        "model.fit(x_train, y_train)\n",
        "y_pred=model.predict(x_val)"
      ],
      "metadata": {
        "id": "7eqaW0fmL4Pj"
      },
      "execution_count": 52,
      "outputs": []
    },
    {
      "cell_type": "code",
      "source": [
        "lr_accuracy=accuracy_score(y_val,y_pred)*100\n",
        "print(accuracy_score(y_val,y_pred)*100)"
      ],
      "metadata": {
        "colab": {
          "base_uri": "https://localhost:8080/"
        },
        "id": "DPijxmdhnEdo",
        "outputId": "652d987c-ba5a-4d3f-8108-1e07dc896132"
      },
      "execution_count": 53,
      "outputs": [
        {
          "output_type": "stream",
          "name": "stdout",
          "text": [
            "92.20833333333334\n"
          ]
        }
      ]
    },
    {
      "cell_type": "markdown",
      "source": [
        "##RandomForest"
      ],
      "metadata": {
        "id": "cpmD7GRFqXQO"
      }
    },
    {
      "cell_type": "code",
      "source": [
        "from sklearn.ensemble import RandomForestClassifier"
      ],
      "metadata": {
        "id": "UWq0Lz1MpB12"
      },
      "execution_count": 56,
      "outputs": []
    },
    {
      "cell_type": "code",
      "source": [
        "rf=RandomForestClassifier(n_estimators=100)\n",
        "rf.fit(x_train,y_train)\n",
        "y_pred=rf.predict(x_val)\n",
        "rf_accuracy=accuracy_score(y_val,y_pred)*100\n",
        "print(f\"Random Forest Accuracy: {accuracy_score(y_val,y_pred)*100:.2f}\")"
      ],
      "metadata": {
        "colab": {
          "base_uri": "https://localhost:8080/"
        },
        "id": "n1WEcfzFqn7C",
        "outputId": "30d3dd56-acab-424e-9b45-e042310502cc"
      },
      "execution_count": 57,
      "outputs": [
        {
          "output_type": "stream",
          "name": "stdout",
          "text": [
            "Random Forest Accuracy: 96.67\n"
          ]
        }
      ]
    },
    {
      "cell_type": "markdown",
      "source": [
        "##Support Vector Machine (SVM)"
      ],
      "metadata": {
        "id": "q4_tkF6FuQ_a"
      }
    },
    {
      "cell_type": "code",
      "source": [
        "from sklearn.svm import SVC\n",
        "\n",
        "model=SVC()\n",
        "model.fit(x_train,y_train)\n",
        "y_pred=model.predict(x_val)"
      ],
      "metadata": {
        "id": "SoI-eRVerf5w"
      },
      "execution_count": 58,
      "outputs": []
    },
    {
      "cell_type": "code",
      "source": [
        "svm_accuracy=accuracy_score(y_val,y_pred)*100\n",
        "print(f\"SVM Accuracy: {accuracy_score(y_val,y_pred)*100:.2f}\")"
      ],
      "metadata": {
        "colab": {
          "base_uri": "https://localhost:8080/"
        },
        "id": "44iJdqjpu5do",
        "outputId": "9c910134-43e3-483a-a9c5-a956f8df54a4"
      },
      "execution_count": 59,
      "outputs": [
        {
          "output_type": "stream",
          "name": "stdout",
          "text": [
            "SVM Accuracy: 97.76\n"
          ]
        }
      ]
    },
    {
      "cell_type": "markdown",
      "source": [
        "##Neural Network"
      ],
      "metadata": {
        "id": "a_HIDM7Vwhbc"
      }
    },
    {
      "cell_type": "code",
      "source": [
        "import tensorflow as tf\n",
        "from tensorflow.keras import layers,models\n",
        "from tensorflow.keras.callbacks import ModelCheckpoint"
      ],
      "metadata": {
        "id": "GVDZ4o0bwZR5"
      },
      "execution_count": 73,
      "outputs": []
    },
    {
      "cell_type": "code",
      "source": [
        "model=models.Sequential([\n",
        "    layers.Dense(128,activation='relu',input_shape=(784,)),\n",
        "    layers.Dense(64,activation='relu'),\n",
        "    layers.Dense(10,activation='softmax')\n",
        "])\n",
        "#Dense means fully connected layer\n",
        "#softmax means that the predicted values all sum up to 1 and the highest prediction is the right one"
      ],
      "metadata": {
        "colab": {
          "base_uri": "https://localhost:8080/"
        },
        "id": "L5CzFAMBy6Bu",
        "outputId": "212b3dca-2d02-44dd-a765-0864087372b9"
      },
      "execution_count": 74,
      "outputs": [
        {
          "output_type": "stream",
          "name": "stderr",
          "text": [
            "/usr/local/lib/python3.11/dist-packages/keras/src/layers/core/dense.py:87: UserWarning: Do not pass an `input_shape`/`input_dim` argument to a layer. When using Sequential models, prefer using an `Input(shape)` object as the first layer in the model instead.\n",
            "  super().__init__(activity_regularizer=activity_regularizer, **kwargs)\n"
          ]
        }
      ]
    },
    {
      "cell_type": "code",
      "source": [
        "model.compile(optimizer='adam',loss='sparse_categorical_crossentropy',metrics=['accuracy'])\n",
        "#adam means adaptive optimizer\n",
        "#spare_categorical_crossentropy is used when you have multiple classes\n",
        "checkpoint=ModelCheckpoint(\"best_model.keras\",monitor='val_accuracy',save_best_only=True,mode='max',verbose=1)\n",
        "model.fit(x_train,y_train,epochs=5,batch_size=32,validation_data=(x_val,y_val),callbacks=[checkpoint])"
      ],
      "metadata": {
        "colab": {
          "base_uri": "https://localhost:8080/"
        },
        "id": "ne6QDqN3zMn5",
        "outputId": "ae2a39d9-fa18-469b-d0d8-b7e7ba54d0ee"
      },
      "execution_count": 81,
      "outputs": [
        {
          "output_type": "stream",
          "name": "stdout",
          "text": [
            "Epoch 1/5\n",
            "\u001b[1m1489/1500\u001b[0m \u001b[32m━━━━━━━━━━━━━━━━━━━\u001b[0m\u001b[37m━\u001b[0m \u001b[1m0s\u001b[0m 4ms/step - accuracy: 0.9946 - loss: 0.0165\n",
            "Epoch 1: val_accuracy improved from -inf to 0.97775, saving model to best_model.keras\n",
            "\u001b[1m1500/1500\u001b[0m \u001b[32m━━━━━━━━━━━━━━━━━━━━\u001b[0m\u001b[37m\u001b[0m \u001b[1m10s\u001b[0m 6ms/step - accuracy: 0.9946 - loss: 0.0165 - val_accuracy: 0.9778 - val_loss: 0.1025\n",
            "Epoch 2/5\n",
            "\u001b[1m1494/1500\u001b[0m \u001b[32m━━━━━━━━━━━━━━━━━━━\u001b[0m\u001b[37m━\u001b[0m \u001b[1m0s\u001b[0m 5ms/step - accuracy: 0.9961 - loss: 0.0114\n",
            "Epoch 2: val_accuracy did not improve from 0.97775\n",
            "\u001b[1m1500/1500\u001b[0m \u001b[32m━━━━━━━━━━━━━━━━━━━━\u001b[0m\u001b[37m\u001b[0m \u001b[1m8s\u001b[0m 5ms/step - accuracy: 0.9961 - loss: 0.0114 - val_accuracy: 0.9758 - val_loss: 0.1070\n",
            "Epoch 3/5\n",
            "\u001b[1m1491/1500\u001b[0m \u001b[32m━━━━━━━━━━━━━━━━━━━\u001b[0m\u001b[37m━\u001b[0m \u001b[1m0s\u001b[0m 4ms/step - accuracy: 0.9957 - loss: 0.0125\n",
            "Epoch 3: val_accuracy did not improve from 0.97775\n",
            "\u001b[1m1500/1500\u001b[0m \u001b[32m━━━━━━━━━━━━━━━━━━━━\u001b[0m\u001b[37m\u001b[0m \u001b[1m9s\u001b[0m 5ms/step - accuracy: 0.9957 - loss: 0.0125 - val_accuracy: 0.9768 - val_loss: 0.1131\n",
            "Epoch 4/5\n",
            "\u001b[1m1487/1500\u001b[0m \u001b[32m━━━━━━━━━━━━━━━━━━━\u001b[0m\u001b[37m━\u001b[0m \u001b[1m0s\u001b[0m 5ms/step - accuracy: 0.9964 - loss: 0.0093\n",
            "Epoch 4: val_accuracy improved from 0.97775 to 0.97783, saving model to best_model.keras\n",
            "\u001b[1m1500/1500\u001b[0m \u001b[32m━━━━━━━━━━━━━━━━━━━━\u001b[0m\u001b[37m\u001b[0m \u001b[1m9s\u001b[0m 6ms/step - accuracy: 0.9964 - loss: 0.0093 - val_accuracy: 0.9778 - val_loss: 0.1170\n",
            "Epoch 5/5\n",
            "\u001b[1m1499/1500\u001b[0m \u001b[32m━━━━━━━━━━━━━━━━━━━\u001b[0m\u001b[37m━\u001b[0m \u001b[1m0s\u001b[0m 4ms/step - accuracy: 0.9956 - loss: 0.0124\n",
            "Epoch 5: val_accuracy improved from 0.97783 to 0.97875, saving model to best_model.keras\n",
            "\u001b[1m1500/1500\u001b[0m \u001b[32m━━━━━━━━━━━━━━━━━━━━\u001b[0m\u001b[37m\u001b[0m \u001b[1m9s\u001b[0m 5ms/step - accuracy: 0.9956 - loss: 0.0124 - val_accuracy: 0.9787 - val_loss: 0.1163\n"
          ]
        },
        {
          "output_type": "execute_result",
          "data": {
            "text/plain": [
              "<keras.src.callbacks.history.History at 0x7e0aee3b4ed0>"
            ]
          },
          "metadata": {},
          "execution_count": 81
        }
      ]
    },
    {
      "cell_type": "code",
      "source": [
        "model = tf.keras.models.load_model(\"best_model.keras\")\n",
        "nn_loss, nn_acc = model.evaluate(x_val, y_val)\n",
        "print(f\"Neural Network Accuracy: {nn_acc * 100:.2f}%\")\n",
        "nn_acc = nn_acc * 100"
      ],
      "metadata": {
        "colab": {
          "base_uri": "https://localhost:8080/"
        },
        "id": "maJ4j-zL2EEv",
        "outputId": "5c958e41-f275-4033-b380-29128ca81429"
      },
      "execution_count": 82,
      "outputs": [
        {
          "output_type": "stream",
          "name": "stdout",
          "text": [
            "\u001b[1m375/375\u001b[0m \u001b[32m━━━━━━━━━━━━━━━━━━━━\u001b[0m\u001b[37m\u001b[0m \u001b[1m1s\u001b[0m 2ms/step - accuracy: 0.9789 - loss: 0.1104\n",
            "Neural Network Accuracy: 97.87%\n"
          ]
        }
      ]
    },
    {
      "cell_type": "markdown",
      "source": [
        "##Comparison"
      ],
      "metadata": {
        "id": "3Te1qHCH87dq"
      }
    },
    {
      "cell_type": "code",
      "source": [
        "accuracy_data=pd.DataFrame({\n",
        "    'Model':[\"Logistic Regression\",'Random Forest','SVM','Neural Network'],\n",
        "    'Accuracy':[lr_accuracy,rf_accuracy,svm_accuracy,nn_acc]\n",
        "})\n",
        "plt.figure(figsize=(10,6))\n",
        "sns.barplot(x='Model',y='Accuracy',data=accuracy_data,palette='viridis')\n",
        "plt.ylim(80,100)\n",
        "plt.title('Model Accuracy Comparison on MNIST')\n",
        "plt.ylabel(\"Accuracy\")\n",
        "plt.xlabel(\"Model\")\n",
        "plt.xticks(rotation=15)\n",
        "plt.grid(axis='y')\n",
        "plt.show()"
      ],
      "metadata": {
        "colab": {
          "base_uri": "https://localhost:8080/",
          "height": 558
        },
        "id": "RC3BWLSG3D-c",
        "outputId": "bc5bd210-29db-4137-c3ec-fcb154333bc4"
      },
      "execution_count": 83,
      "outputs": [
        {
          "output_type": "stream",
          "name": "stderr",
          "text": [
            "<ipython-input-83-4e3f42ab7e8c>:6: FutureWarning: \n",
            "\n",
            "Passing `palette` without assigning `hue` is deprecated and will be removed in v0.14.0. Assign the `x` variable to `hue` and set `legend=False` for the same effect.\n",
            "\n",
            "  sns.barplot(x='Model',y='Accuracy',data=accuracy_data,palette='viridis')\n"
          ]
        },
        {
          "output_type": "display_data",
          "data": {
            "text/plain": [
              "<Figure size 1000x600 with 1 Axes>"
            ],
            "image/png": "[encoded data removed]"
          },
          "metadata": {}
        }
      ]
    },
    {
      "cell_type": "code",
      "source": [],
      "metadata": {
        "id": "kC49b5DK-fAZ"
      },
      "execution_count": null,
      "outputs": []
    }
  ]
}