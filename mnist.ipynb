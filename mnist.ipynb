{
  "nbformat": 4,
  "nbformat_minor": 0,
  "metadata": {
    "colab": {
      "provenance": [],
      "authorship_tag": "ABX9TyNTlJ1w2FaIZPuWPGJRCfLx",
      "include_colab_link": true
    },
    "kernelspec": {
      "name": "python3",
      "display_name": "Python 3"
    },
    "language_info": {
      "name": "python"
    }
  },
  "cells": [
    {
      "cell_type": "markdown",
      "metadata": {
        "id": "view-in-github",
        "colab_type": "text"
      },
      "source": [
        "<a href=\"https://colab.research.google.com/github/sanislearning/ml_playground/blob/main/mnist.ipynb\" target=\"_parent\"><img src=\"https://colab.research.google.com/assets/colab-badge.svg\" alt=\"Open In Colab\"/></a>"
      ]
    },
    {
      "cell_type": "code",
      "source": [
        "!pip install optuna"
      ],
      "metadata": {
        "colab": {
          "base_uri": "https://localhost:8080/"
        },
        "id": "8RjYVDUPK-tJ",
        "outputId": "1d98306c-920e-42d0-bd65-5d2560b1ec71"
      },
      "execution_count": 1,
      "outputs": [
        {
          "output_type": "stream",
          "name": "stdout",
          "text": [
            "Collecting optuna\n",
            "  Downloading optuna-4.3.0-py3-none-any.whl.metadata (17 kB)\n",
            "Collecting alembic>=1.5.0 (from optuna)\n",
            "  Downloading alembic-1.16.1-py3-none-any.whl.metadata (7.3 kB)\n",
            "Collecting colorlog (from optuna)\n",
            "  Downloading colorlog-6.9.0-py3-none-any.whl.metadata (10 kB)\n",
            "Requirement already satisfied: numpy in /usr/local/lib/python3.11/dist-packages (from optuna) (2.0.2)\n",
            "Requirement already satisfied: packaging>=20.0 in /usr/local/lib/python3.11/dist-packages (from optuna) (24.2)\n",
            "Requirement already satisfied: sqlalchemy>=1.4.2 in /usr/local/lib/python3.11/dist-packages (from optuna) (2.0.41)\n",
            "Requirement already satisfied: tqdm in /usr/local/lib/python3.11/dist-packages (from optuna) (4.67.1)\n",
            "Requirement already satisfied: PyYAML in /usr/local/lib/python3.11/dist-packages (from optuna) (6.0.2)\n",
            "Requirement already satisfied: Mako in /usr/lib/python3/dist-packages (from alembic>=1.5.0->optuna) (1.1.3)\n",
            "Requirement already satisfied: typing-extensions>=4.12 in /usr/local/lib/python3.11/dist-packages (from alembic>=1.5.0->optuna) (4.13.2)\n",
            "Requirement already satisfied: greenlet>=1 in /usr/local/lib/python3.11/dist-packages (from sqlalchemy>=1.4.2->optuna) (3.2.2)\n",
            "Downloading optuna-4.3.0-py3-none-any.whl (386 kB)\n",
            "\u001b[2K   \u001b[90m━━━━━━━━━━━━━━━━━━━━━━━━━━━━━━━━━━━━━━━━\u001b[0m \u001b[32m386.6/386.6 kB\u001b[0m \u001b[31m8.5 MB/s\u001b[0m eta \u001b[36m0:00:00\u001b[0m\n",
            "\u001b[?25hDownloading alembic-1.16.1-py3-none-any.whl (242 kB)\n",
            "\u001b[2K   \u001b[90m━━━━━━━━━━━━━━━━━━━━━━━━━━━━━━━━━━━━━━━━\u001b[0m \u001b[32m242.5/242.5 kB\u001b[0m \u001b[31m16.3 MB/s\u001b[0m eta \u001b[36m0:00:00\u001b[0m\n",
            "\u001b[?25hDownloading colorlog-6.9.0-py3-none-any.whl (11 kB)\n",
            "Installing collected packages: colorlog, alembic, optuna\n",
            "Successfully installed alembic-1.16.1 colorlog-6.9.0 optuna-4.3.0\n"
          ]
        }
      ]
    },
    {
      "cell_type": "code",
      "execution_count": 2,
      "metadata": {
        "id": "cMQU8SBHfVSa"
      },
      "outputs": [],
      "source": [
        "import numpy as np\n",
        "import pandas as pd\n",
        "import matplotlib.pyplot as plt\n",
        "import seaborn as sns\n",
        "from google.colab import drive\n"
      ]
    },
    {
      "cell_type": "code",
      "source": [
        "drive.mount(\"/content/drive\")\n",
        "file_path='/content/drive/MyDrive/PData/mnist/train-images.idx3-ubyte'"
      ],
      "metadata": {
        "id": "9LWTh6zWfgNf",
        "colab": {
          "base_uri": "https://localhost:8080/"
        },
        "outputId": "c08291bf-eecd-4282-d678-cf5d84e818ad"
      },
      "execution_count": 3,
      "outputs": [
        {
          "output_type": "stream",
          "name": "stdout",
          "text": [
            "Drive already mounted at /content/drive; to attempt to forcibly remount, call drive.mount(\"/content/drive\", force_remount=True).\n"
          ]
        }
      ]
    },
    {
      "cell_type": "code",
      "source": [
        "import struct #helps interpret bytes as packed binary data, lets us read IDX file format\n",
        "with open(file_path,'rb') as f: #rb means read binary\n",
        "  #Read the magic number and dimensions\n",
        "  magic,num_images,rows,cols=struct.unpack('>IIII',f.read(16))\n",
        "  #f.read(16) means that you read first 16 bytes, ie header of IDX file, ie metadata of file\n",
        "  #struct.unpack('>IIII',...) interprets those 16 bytes as 4 big-endian unsigned integers\n",
        "  # > =  Big endian (most significant byte first)\n",
        "\n",
        "  print(\"Magic Number: \",magic)\n",
        "  print(\"Number of Images: \",num_images)\n",
        "  print(\"Image Size: \",rows,\"x\",cols)\n",
        "  image_bytes=f.read(rows*cols)  #reads only the first image\n",
        "  image=np.frombuffer(image_bytes,dtype=np.uint8).reshape((rows,cols))\n",
        "  #converts the bytes into a NumPy array and then reshapes it into a 2D array of shape"
      ],
      "metadata": {
        "colab": {
          "base_uri": "https://localhost:8080/"
        },
        "id": "Y2e2b9O87ZYX",
        "outputId": "f4932c5a-7fcf-4397-d9fa-16e3f73bd823"
      },
      "execution_count": 4,
      "outputs": [
        {
          "output_type": "stream",
          "name": "stdout",
          "text": [
            "Magic Number:  2051\n",
            "Number of Images:  60000\n",
            "Image Size:  28 x 28\n"
          ]
        }
      ]
    },
    {
      "cell_type": "code",
      "source": [
        "#Visualizing the Image\n",
        "plt.imshow(image,cmap='gray')\n",
        "plt.title(\"First Image\")\n",
        "plt.axis('off')\n",
        "plt.show()"
      ],
      "metadata": {
        "colab": {
          "base_uri": "https://localhost:8080/",
          "height": 428
        },
        "id": "IuYU8LaQD10v",
        "outputId": "8aed1dd0-309d-4dfe-8938-142f55e1ae55"
      },
      "execution_count": 5,
      "outputs": [
        {
          "output_type": "display_data",
          "data": {
            "text/plain": [
              "<Figure size 640x480 with 1 Axes>"
            ],
            "image/png": "[encoded data removed]"
          },
          "metadata": {}
        }
      ]
    },
    {
      "cell_type": "code",
      "source": [
        "with open(file_path,'rb') as f: #read binary format\n",
        "  f.read(16) #skips the header\n",
        "  image_data=f.read(num_images*rows*cols)\n",
        "\n",
        "images=np.frombuffer(image_data,dtype=np.uint8) #converts the raw bytes into a NumPy array, interpret each byte as an unsigned 8-bit integer\n",
        "images=images.reshape((num_images,rows,cols)) #It's a 3D array. It has 60000 images, each 28th rows high and 28 columns wide"
      ],
      "metadata": {
        "id": "h2WyRqGmECN_"
      },
      "execution_count": 6,
      "outputs": []
    },
    {
      "cell_type": "code",
      "source": [
        "import random\n",
        "\n",
        "plt.figure(figsize=(10, 5))\n",
        "for i in range(10):\n",
        "    idx = random.randint(0, 59999)\n",
        "    plt.subplot(2, 5, i+1)\n",
        "    plt.imshow(images[idx], cmap='gray')\n",
        "    plt.title(f\"Image #{idx}\")\n",
        "    plt.axis('off')\n",
        "plt.show()"
      ],
      "metadata": {
        "colab": {
          "base_uri": "https://localhost:8080/",
          "height": 329
        },
        "id": "GZbQ59LqcMRm",
        "outputId": "fe393d14-df5d-4ed2-fb6c-5d455463726e"
      },
      "execution_count": 7,
      "outputs": [
        {
          "output_type": "display_data",
          "data": {
            "text/plain": [
              "<Figure size 1000x500 with 10 Axes>"
            ],
            "image/png": "[encoded data removed]"
          },
          "metadata": {}
        }
      ]
    },
    {
      "cell_type": "code",
      "source": [
        "images=images/255.0"
      ],
      "metadata": {
        "id": "Fp6fbPmnjaHK"
      },
      "execution_count": 8,
      "outputs": []
    },
    {
      "cell_type": "markdown",
      "source": [
        "#Load the Labels"
      ],
      "metadata": {
        "id": "Gee_UpCzoClm"
      }
    },
    {
      "cell_type": "code",
      "source": [
        "label_file_path='/content/drive/MyDrive/PData/mnist/train-labels.idx1-ubyte'\n",
        "\n",
        "with open(label_file_path,'rb') as f:\n",
        "  magic,num_labels=struct.unpack('>II',f.read(8))\n",
        "  print(\"Magic Number: \",magic)\n",
        "  print(\"Number of Labels: \",num_labels)\n",
        "\n",
        "  #Read the rest of the file - each label is 1 byte\n",
        "  label_bytes=f.read(num_labels)\n",
        "  #Convert to a NumPy array of unsigned 8-bit intergers\n",
        "  labels=np.frombuffer(label_bytes,dtype=np.uint8)"
      ],
      "metadata": {
        "colab": {
          "base_uri": "https://localhost:8080/"
        },
        "id": "dDoNtN82oBAG",
        "outputId": "de873fed-28e6-4254-c025-7d87df9b8ab4"
      },
      "execution_count": 9,
      "outputs": [
        {
          "output_type": "stream",
          "name": "stdout",
          "text": [
            "Magic Number:  2049\n",
            "Number of Labels:  60000\n"
          ]
        }
      ]
    },
    {
      "cell_type": "code",
      "source": [
        "x=images.reshape((num_images,28*28)) # each image becomes a 784-length vector"
      ],
      "metadata": {
        "id": "qVFdLsFMpvp6"
      },
      "execution_count": 10,
      "outputs": []
    },
    {
      "cell_type": "code",
      "source": [
        "from sklearn.model_selection import train_test_split\n",
        "\n",
        "x_train,x_val,y_train,y_val=train_test_split(x,labels,test_size=0.2,random_state=42)\n",
        "#x_train,y_train is used for training\n",
        "#x_val,y_val is used for validation/testing"
      ],
      "metadata": {
        "id": "kZSJcsBbtAuk"
      },
      "execution_count": 11,
      "outputs": []
    },
    {
      "cell_type": "markdown",
      "source": [
        "#Training and Evaluation"
      ],
      "metadata": {
        "id": "qaAOIdEDFafq"
      }
    },
    {
      "cell_type": "code",
      "source": [
        "from sklearn.metrics import accuracy_score,classification_report"
      ],
      "metadata": {
        "id": "XMLVt6yVC7fK"
      },
      "execution_count": 12,
      "outputs": []
    },
    {
      "cell_type": "code",
      "source": [
        "from sklearn.linear_model import LogisticRegression\n",
        "model=LogisticRegression(max_iter=1000)\n",
        "model.fit(x_train,y_train)\n",
        "y_pred=model.predict(x_val)"
      ],
      "metadata": {
        "id": "AVX2GnNtFnaU"
      },
      "execution_count": 13,
      "outputs": []
    },
    {
      "cell_type": "code",
      "source": [
        "print(accuracy_score(y_val,y_pred))"
      ],
      "metadata": {
        "colab": {
          "base_uri": "https://localhost:8080/"
        },
        "id": "TKTmfTdMF11R",
        "outputId": "b77db436-78f5-49be-8f1e-5e1ea6068886"
      },
      "execution_count": 15,
      "outputs": [
        {
          "output_type": "stream",
          "name": "stdout",
          "text": [
            "0.9223333333333333\n"
          ]
        }
      ]
    },
    {
      "cell_type": "code",
      "source": [
        "def objective(trail):\n",
        "  C=trail.suggest.suggest_loguniform('C',1e-4,1e2)\n",
        "  #inverse of regularization strength in logistic regression\n",
        "  #suggest_loguniform lets Optuna try values between 1e-4 and 1e4 on a log scale\n",
        "  solver=trail.suggest_categorical('solver',['liblinear','lbfgs','saga'])\n",
        "  # solver is the algorithm used to train the model.\n",
        "  # liblinear good for small datasets, supports L1\n",
        "  # lbfgs good for L2 and multiclass\n",
        "  # saga supports both L1 and L2 and works with large datasets\n",
        "  penalty='l2' if solver !='liblinear' else trail.suggest_categorialcal('penalty',['l1','l2'])\n",
        "  model=LogisticRegression(C=C,solver=solver,penalty=penalty,max_iter=1000)\n",
        "  model.fit(x_train,y_train)\n",
        "  y_pred=model.predict(x_val)\n",
        "  accuracy=accuracy_score(y_val,y_pred)\n",
        "\n",
        "  return accuracy"
      ],
      "metadata": {
        "id": "7eqaW0fmL4Pj"
      },
      "execution_count": 18,
      "outputs": []
    },
    {
      "cell_type": "code",
      "source": [],
      "metadata": {
        "id": "_BxQOCDPPcPz"
      },
      "execution_count": null,
      "outputs": []
    }
  ]
}