{
  "nbformat": 4,
  "nbformat_minor": 0,
  "metadata": {
    "colab": {
      "provenance": [],
      "authorship_tag": "ABX9TyPAUOEbQu+f9GV8avQ072gs",
      "include_colab_link": true
    },
    "kernelspec": {
      "name": "python3",
      "display_name": "Python 3"
    },
    "language_info": {
      "name": "python"
    }
  },
  "cells": [
    {
      "cell_type": "markdown",
      "metadata": {
        "id": "view-in-github",
        "colab_type": "text"
      },
      "source": [
        "<a href=\"https://colab.research.google.com/github/sanislearning/ml_playground/blob/main/IMDBRatings.ipynb\" target=\"_parent\"><img src=\"https://colab.research.google.com/assets/colab-badge.svg\" alt=\"Open In Colab\"/></a>"
      ]
    },
    {
      "cell_type": "code",
      "execution_count": 1,
      "metadata": {
        "id": "OY_Rjw-310nh"
      },
      "outputs": [],
      "source": [
        "import numpy as np\n",
        "import seaborn as sb\n",
        "import matplotlib.pyplot as plt\n",
        "import pandas as pd\n",
        "from sklearn.metrics import classification_report,accuracy_score,f1_score"
      ]
    },
    {
      "cell_type": "code",
      "source": [
        "from google.colab import files\n",
        "uploaded=files.upload()"
      ],
      "metadata": {
        "colab": {
          "base_uri": "https://localhost:8080/",
          "height": 73
        },
        "id": "Kr8IkBiD2FFx",
        "outputId": "5c4a258a-f32b-48a3-a944-8ae024df244e"
      },
      "execution_count": 2,
      "outputs": [
        {
          "output_type": "display_data",
          "data": {
            "text/plain": [
              "<IPython.core.display.HTML object>"
            ],
            "text/html": [
              "\n",
              "     <input type=\"file\" id=\"files-131375f9-e5d1-406c-ab3d-012472f7dfc9\" name=\"files[]\" multiple disabled\n",
              "        style=\"border:none\" />\n",
              "     <output id=\"result-131375f9-e5d1-406c-ab3d-012472f7dfc9\">\n",
              "      Upload widget is only available when the cell has been executed in the\n",
              "      current browser session. Please rerun this cell to enable.\n",
              "      </output>\n",
              "      <script>// Copyright 2017 Google LLC\n",
              "//\n",
              "// Licensed under the Apache License, Version 2.0 (the \"License\");\n",
              "// you may not use this file except in compliance with the License.\n",
              "// You may obtain a copy of the License at\n",
              "//\n",
              "//      http://www.apache.org/licenses/LICENSE-2.0\n",
              "//\n",
              "// Unless required by applicable law or agreed to in writing, software\n",
              "// distributed under the License is distributed on an \"AS IS\" BASIS,\n",
              "// WITHOUT WARRANTIES OR CONDITIONS OF ANY KIND, either express or implied.\n",
              "// See the License for the specific language governing permissions and\n",
              "// limitations under the License.\n",
              "\n",
              "/**\n",
              " * @fileoverview Helpers for google.colab Python module.\n",
              " */\n",
              "(function(scope) {\n",
              "function span(text, styleAttributes = {}) {\n",
              "  const element = document.createElement('span');\n",
              "  element.textContent = text;\n",
              "  for (const key of Object.keys(styleAttributes)) {\n",
              "    element.style[key] = styleAttributes[key];\n",
              "  }\n",
              "  return element;\n",
              "}\n",
              "\n",
              "// Max number of bytes which will be uploaded at a time.\n",
              "const MAX_PAYLOAD_SIZE = 100 * 1024;\n",
              "\n",
              "function _uploadFiles(inputId, outputId) {\n",
              "  const steps = uploadFilesStep(inputId, outputId);\n",
              "  const outputElement = document.getElementById(outputId);\n",
              "  // Cache steps on the outputElement to make it available for the next call\n",
              "  // to uploadFilesContinue from Python.\n",
              "  outputElement.steps = steps;\n",
              "\n",
              "  return _uploadFilesContinue(outputId);\n",
              "}\n",
              "\n",
              "// This is roughly an async generator (not supported in the browser yet),\n",
              "// where there are multiple asynchronous steps and the Python side is going\n",
              "// to poll for completion of each step.\n",
              "// This uses a Promise to block the python side on completion of each step,\n",
              "// then passes the result of the previous step as the input to the next step.\n",
              "function _uploadFilesContinue(outputId) {\n",
              "  const outputElement = document.getElementById(outputId);\n",
              "  const steps = outputElement.steps;\n",
              "\n",
              "  const next = steps.next(outputElement.lastPromiseValue);\n",
              "  return Promise.resolve(next.value.promise).then((value) => {\n",
              "    // Cache the last promise value to make it available to the next\n",
              "    // step of the generator.\n",
              "    outputElement.lastPromiseValue = value;\n",
              "    return next.value.response;\n",
              "  });\n",
              "}\n",
              "\n",
              "/**\n",
              " * Generator function which is called between each async step of the upload\n",
              " * process.\n",
              " * @param {string} inputId Element ID of the input file picker element.\n",
              " * @param {string} outputId Element ID of the output display.\n",
              " * @return {!Iterable<!Object>} Iterable of next steps.\n",
              " */\n",
              "function* uploadFilesStep(inputId, outputId) {\n",
              "  const inputElement = document.getElementById(inputId);\n",
              "  inputElement.disabled = false;\n",
              "\n",
              "  const outputElement = document.getElementById(outputId);\n",
              "  outputElement.innerHTML = '';\n",
              "\n",
              "  const pickedPromise = new Promise((resolve) => {\n",
              "    inputElement.addEventListener('change', (e) => {\n",
              "      resolve(e.target.files);\n",
              "    });\n",
              "  });\n",
              "\n",
              "  const cancel = document.createElement('button');\n",
              "  inputElement.parentElement.appendChild(cancel);\n",
              "  cancel.textContent = 'Cancel upload';\n",
              "  const cancelPromise = new Promise((resolve) => {\n",
              "    cancel.onclick = () => {\n",
              "      resolve(null);\n",
              "    };\n",
              "  });\n",
              "\n",
              "  // Wait for the user to pick the files.\n",
              "  const files = yield {\n",
              "    promise: Promise.race([pickedPromise, cancelPromise]),\n",
              "    response: {\n",
              "      action: 'starting',\n",
              "    }\n",
              "  };\n",
              "\n",
              "  cancel.remove();\n",
              "\n",
              "  // Disable the input element since further picks are not allowed.\n",
              "  inputElement.disabled = true;\n",
              "\n",
              "  if (!files) {\n",
              "    return {\n",
              "      response: {\n",
              "        action: 'complete',\n",
              "      }\n",
              "    };\n",
              "  }\n",
              "\n",
              "  for (const file of files) {\n",
              "    const li = document.createElement('li');\n",
              "    li.append(span(file.name, {fontWeight: 'bold'}));\n",
              "    li.append(span(\n",
              "        `(${file.type || 'n/a'}) - ${file.size} bytes, ` +\n",
              "        `last modified: ${\n",
              "            file.lastModifiedDate ? file.lastModifiedDate.toLocaleDateString() :\n",
              "                                    'n/a'} - `));\n",
              "    const percent = span('0% done');\n",
              "    li.appendChild(percent);\n",
              "\n",
              "    outputElement.appendChild(li);\n",
              "\n",
              "    const fileDataPromise = new Promise((resolve) => {\n",
              "      const reader = new FileReader();\n",
              "      reader.onload = (e) => {\n",
              "        resolve(e.target.result);\n",
              "      };\n",
              "      reader.readAsArrayBuffer(file);\n",
              "    });\n",
              "    // Wait for the data to be ready.\n",
              "    let fileData = yield {\n",
              "      promise: fileDataPromise,\n",
              "      response: {\n",
              "        action: 'continue',\n",
              "      }\n",
              "    };\n",
              "\n",
              "    // Use a chunked sending to avoid message size limits. See b/62115660.\n",
              "    let position = 0;\n",
              "    do {\n",
              "      const length = Math.min(fileData.byteLength - position, MAX_PAYLOAD_SIZE);\n",
              "      const chunk = new Uint8Array(fileData, position, length);\n",
              "      position += length;\n",
              "\n",
              "      const base64 = btoa(String.fromCharCode.apply(null, chunk));\n",
              "      yield {\n",
              "        response: {\n",
              "          action: 'append',\n",
              "          file: file.name,\n",
              "          data: base64,\n",
              "        },\n",
              "      };\n",
              "\n",
              "      let percentDone = fileData.byteLength === 0 ?\n",
              "          100 :\n",
              "          Math.round((position / fileData.byteLength) * 100);\n",
              "      percent.textContent = `${percentDone}% done`;\n",
              "\n",
              "    } while (position < fileData.byteLength);\n",
              "  }\n",
              "\n",
              "  // All done.\n",
              "  yield {\n",
              "    response: {\n",
              "      action: 'complete',\n",
              "    }\n",
              "  };\n",
              "}\n",
              "\n",
              "scope.google = scope.google || {};\n",
              "scope.google.colab = scope.google.colab || {};\n",
              "scope.google.colab._files = {\n",
              "  _uploadFiles,\n",
              "  _uploadFilesContinue,\n",
              "};\n",
              "})(self);\n",
              "</script> "
            ]
          },
          "metadata": {}
        },
        {
          "output_type": "stream",
          "name": "stdout",
          "text": [
            "Saving aclImdb.zip to aclImdb.zip\n"
          ]
        }
      ]
    },
    {
      "cell_type": "code",
      "source": [
        "import zipfile\n",
        "with zipfile.ZipFile('aclImdb.zip','r') as zip_ref:\n",
        "  zip_ref.extractall()"
      ],
      "metadata": {
        "id": "zvVnrnECL6aP"
      },
      "execution_count": 3,
      "outputs": []
    },
    {
      "cell_type": "code",
      "source": [
        "import os\n",
        "print(os.listdir('aclImdb'))"
      ],
      "metadata": {
        "colab": {
          "base_uri": "https://localhost:8080/"
        },
        "id": "OiyObMGTMU3M",
        "outputId": "27dbda32-2086-4274-e0d5-45af2564f525"
      },
      "execution_count": 4,
      "outputs": [
        {
          "output_type": "stream",
          "name": "stdout",
          "text": [
            "['README', 'test', 'imdbEr.txt', 'train', 'imdb.vocab']\n"
          ]
        }
      ]
    },
    {
      "cell_type": "code",
      "source": [
        "def load_reviews(directory,label):\n",
        "  reviews=[]\n",
        "  for filename in os.listdir(directory): #loops through all the files in the directory\n",
        "    file_path=os.path.join(directory,filename) #gets the complete path to each review file\n",
        "    with open(file_path,encoding='utf-8') as file: #Open file and read using UTF-8 encoding\n",
        "      reviews.append((file.read(),label))\n",
        "  return reviews\n",
        "\n",
        "pos_reviews=load_reviews('aclImdb/train/pos',1) #loads positive reviews and assign them to the label 1\n",
        "neg_reviews=load_reviews('aclImdb/train/neg',0) #loads negative reviews and assigns them to the label 0"
      ],
      "metadata": {
        "id": "ilXQTyCXMZoj"
      },
      "execution_count": 5,
      "outputs": []
    },
    {
      "cell_type": "code",
      "source": [
        "all_reviews=pos_reviews+neg_reviews\n",
        "import random\n",
        "random.shuffle(all_reviews) #mixes up the dataset so positive and negative reviews are mixed"
      ],
      "metadata": {
        "id": "i6Bxc1U-YFb1"
      },
      "execution_count": 6,
      "outputs": []
    },
    {
      "cell_type": "code",
      "source": [
        "df=pd.DataFrame(all_reviews,columns=['review','label'])\n",
        "print(df.head())\n",
        "from sklearn.model_selection import train_test_split\n",
        "x_train,x_val,y_train,y_val=train_test_split(\n",
        "    df['review'],df['label'],test_size=0.2,random_state=42\n",
        ")"
      ],
      "metadata": {
        "colab": {
          "base_uri": "https://localhost:8080/"
        },
        "id": "_-okWiR_Z6N7",
        "outputId": "3707e71e-c685-483d-8f93-24cc00c4020a"
      },
      "execution_count": 7,
      "outputs": [
        {
          "output_type": "stream",
          "name": "stdout",
          "text": [
            "                                              review  label\n",
            "0  I love Seth Green. His appearances on THat 70s...      0\n",
            "1  Thomas Capano was not Anne Marie's boss Tom Ca...      1\n",
            "2  Sure, the history in this movie was \"Hollywood...      1\n",
            "3  To call a movie like \"Thinner\" bad is like cal...      0\n",
            "4  I was 5 years old when I saw this musical movi...      1\n"
          ]
        }
      ]
    },
    {
      "cell_type": "markdown",
      "source": [
        "#Training the Naive Bayes Classifer"
      ],
      "metadata": {
        "id": "sl1A1D5Rod0V"
      }
    },
    {
      "cell_type": "code",
      "source": [
        "#Since we have natural language text on one side and we need to train a model,\n",
        "#we have to convert it into a numerical format that ML models can work with\n",
        "from sklearn.feature_extraction.text import TfidfVectorizer #Term frequency inverse document frequency\n",
        "vectorizer=TfidfVectorizer(stop_words='english',max_features=10000)\n",
        "x_train_vec=vectorizer.fit_transform(x_train) #Learns the vocabulary and IDF weights from xtrain, converts each review into TFIDF weighted feature vector based on this learned vocabulary.\n",
        "x_val_vec=vectorizer.transform(x_val)\n",
        "#TF = Frequency of word in the document.\n",
        "#IDF = log(Total docs / Docs containing the word).\n",
        "#TFIDF= TF*IDF.\n"
      ],
      "metadata": {
        "id": "zd2zhA3UcmJg"
      },
      "execution_count": 8,
      "outputs": []
    },
    {
      "cell_type": "code",
      "source": [
        "from sklearn.naive_bayes import MultinomialNB\n",
        "\n",
        "model=MultinomialNB()\n",
        "model.fit(x_train_vec,y_train)\n",
        "y_pred=model.predict(x_val_vec)\n",
        "print(\"Accuracy: \",accuracy_score(y_val,y_pred))\n",
        "print(classification_report(y_val,y_pred))"
      ],
      "metadata": {
        "colab": {
          "base_uri": "https://localhost:8080/"
        },
        "id": "nderItdUkL_g",
        "outputId": "d92585f3-230b-480f-96a4-f9d84d858e5a"
      },
      "execution_count": 9,
      "outputs": [
        {
          "output_type": "stream",
          "name": "stdout",
          "text": [
            "Accuracy:  0.85\n",
            "              precision    recall  f1-score   support\n",
            "\n",
            "           0       0.85      0.85      0.85      2510\n",
            "           1       0.85      0.85      0.85      2490\n",
            "\n",
            "    accuracy                           0.85      5000\n",
            "   macro avg       0.85      0.85      0.85      5000\n",
            "weighted avg       0.85      0.85      0.85      5000\n",
            "\n"
          ]
        }
      ]
    },
    {
      "cell_type": "code",
      "source": [
        "#Using CountVectorizer instead of TFIDF\n",
        "#Checks how many times each word appears in a document\n",
        "from sklearn.feature_extraction.text import CountVectorizer\n",
        "vectorizer=CountVectorizer(stop_words='english',max_features=10000)\n",
        "x_train_vec=vectorizer.fit_transform(x_train)\n",
        "x_val_vec=vectorizer.transform(x_val) #transform using same vocabulary"
      ],
      "metadata": {
        "id": "GnaZwGwZo7VC"
      },
      "execution_count": 10,
      "outputs": []
    },
    {
      "cell_type": "code",
      "source": [
        "nbmodel=MultinomialNB()\n",
        "nbmodel.fit(x_train_vec,y_train)\n",
        "y_pred=nbmodel.predict(x_val_vec)\n",
        "print(\"Accuracy:\", accuracy_score(y_val, y_pred))\n",
        "print(classification_report(y_val, y_pred))"
      ],
      "metadata": {
        "colab": {
          "base_uri": "https://localhost:8080/"
        },
        "id": "4vofzm0lByU1",
        "outputId": "c5d7c605-c4c1-4b21-93a8-bffbe676c265"
      },
      "execution_count": 11,
      "outputs": [
        {
          "output_type": "stream",
          "name": "stdout",
          "text": [
            "Accuracy: 0.8434\n",
            "              precision    recall  f1-score   support\n",
            "\n",
            "           0       0.83      0.86      0.85      2510\n",
            "           1       0.85      0.83      0.84      2490\n",
            "\n",
            "    accuracy                           0.84      5000\n",
            "   macro avg       0.84      0.84      0.84      5000\n",
            "weighted avg       0.84      0.84      0.84      5000\n",
            "\n"
          ]
        }
      ]
    },
    {
      "cell_type": "markdown",
      "source": [
        "#Logistic Regression"
      ],
      "metadata": {
        "id": "_1wLMpolgp9i"
      }
    },
    {
      "cell_type": "code",
      "source": [
        "from sklearn.linear_model import LogisticRegression\n",
        "from sklearn.metrics import accuracy_score,classification_report\n",
        "\n",
        "lr_model=LogisticRegression(max_iter=1000)\n",
        "lr_model.fit(x_train_vec,y_train)\n",
        "y_pred=lr_model.predict(x_val_vec)\n",
        "\n",
        "print(\"Logistic Regression Accuracy: \",accuracy_score(y_val,y_pred))\n",
        "print(classification_report(y_val,y_pred))"
      ],
      "metadata": {
        "colab": {
          "base_uri": "https://localhost:8080/"
        },
        "id": "nKD1yaw7goli",
        "outputId": "bd359242-73db-4040-af47-953444dd6dfe"
      },
      "execution_count": 12,
      "outputs": [
        {
          "output_type": "stream",
          "name": "stdout",
          "text": [
            "Logistic Regression Accuracy:  0.8706\n",
            "              precision    recall  f1-score   support\n",
            "\n",
            "           0       0.88      0.86      0.87      2510\n",
            "           1       0.86      0.88      0.87      2490\n",
            "\n",
            "    accuracy                           0.87      5000\n",
            "   macro avg       0.87      0.87      0.87      5000\n",
            "weighted avg       0.87      0.87      0.87      5000\n",
            "\n"
          ]
        }
      ]
    },
    {
      "cell_type": "markdown",
      "source": [
        "#Long Short Term Memory\n"
      ],
      "metadata": {
        "id": "7SE3e7o9teAD"
      }
    },
    {
      "cell_type": "code",
      "source": [
        "from tensorflow.keras.preprocessing.text import Tokenizer\n",
        "#It converts text into sequences of integers\n",
        "tokenizer=Tokenizer(num_words=10000,oov_token=\"<OOV>\")\n",
        "#num_words- top how many common words will be used\n",
        "#oov_token- replaces out of vocabulary words with this\n",
        "tokenizer.fit_on_texts(x_train)"
      ],
      "metadata": {
        "id": "CimZErUvtddt"
      },
      "execution_count": 14,
      "outputs": []
    },
    {
      "cell_type": "code",
      "source": [
        "x_train_seq=tokenizer.texts_to_sequences(x_train)\n",
        "x_val_seq=tokenizer.texts_to_sequences(x_val)"
      ],
      "metadata": {
        "id": "Svd6son6CNOc"
      },
      "execution_count": 15,
      "outputs": []
    },
    {
      "cell_type": "code",
      "source": [
        "#Padding the sequences\n",
        "from tensorflow.keras.preprocessing.sequence import pad_sequences\n",
        "\n",
        "max_len=200\n",
        "x_train_pad=pad_sequences(x_train_seq,maxlen=max_len,padding='post',truncating='post')\n",
        "#every review is padded to or trimmed to 200 tokens\n",
        "#post means if padding needed add zeros at end, if sequence longer cut off the end\n",
        "x_val_pad=pad_sequences(x_val_seq,maxlen=max_len,padding='post',truncating='post')"
      ],
      "metadata": {
        "id": "NMRdMkaZ0N3Z"
      },
      "execution_count": 23,
      "outputs": []
    },
    {
      "cell_type": "code",
      "source": [
        "#Building the LSTM Model\n",
        "from tensorflow.keras.models import Sequential\n",
        "from tensorflow.keras.layers import Embedding,LSTM,Dense\n",
        "\n",
        "model_lstm=Sequential([\n",
        "    Embedding(input_dim=10000,output_dim=64,input_length=max_len),\n",
        "    #input dim is vocabulary size\n",
        "    LSTM(64, return_sequences=False),\n",
        "    Dense(1,activation='sigmoid')\n",
        "])"
      ],
      "metadata": {
        "colab": {
          "base_uri": "https://localhost:8080/"
        },
        "id": "d26gW6RU00Fd",
        "outputId": "69355987-0bc5-4368-8897-fd36461b99e0"
      },
      "execution_count": 24,
      "outputs": [
        {
          "output_type": "stream",
          "name": "stderr",
          "text": [
            "/usr/local/lib/python3.11/dist-packages/keras/src/layers/core/embedding.py:90: UserWarning: Argument `input_length` is deprecated. Just remove it.\n",
            "  warnings.warn(\n"
          ]
        }
      ]
    },
    {
      "cell_type": "code",
      "source": [
        "model_lstm.compile(loss='binary_crossentropy',optimizer='adam',metrics=['accuracy'])\n",
        "history_obj=model_lstm.fit(x_train_pad,y_train,epochs=5,batch_size=128,validation_data=(x_val_pad,y_val))"
      ],
      "metadata": {
        "colab": {
          "base_uri": "https://localhost:8080/"
        },
        "id": "Pe0Cfgce1Btd",
        "outputId": "a79a3cd5-07db-4a04-f07a-f862795f47b8"
      },
      "execution_count": 32,
      "outputs": [
        {
          "output_type": "stream",
          "name": "stdout",
          "text": [
            "Epoch 1/5\n",
            "\u001b[1m157/157\u001b[0m \u001b[32m━━━━━━━━━━━━━━━━━━━━\u001b[0m\u001b[37m\u001b[0m \u001b[1m81s\u001b[0m 499ms/step - accuracy: 0.8304 - loss: 0.4295 - val_accuracy: 0.8092 - val_loss: 0.4709\n",
            "Epoch 2/5\n",
            "\u001b[1m157/157\u001b[0m \u001b[32m━━━━━━━━━━━━━━━━━━━━\u001b[0m\u001b[37m\u001b[0m \u001b[1m68s\u001b[0m 435ms/step - accuracy: 0.8521 - loss: 0.3809 - val_accuracy: 0.7804 - val_loss: 0.5179\n",
            "Epoch 3/5\n",
            "\u001b[1m157/157\u001b[0m \u001b[32m━━━━━━━━━━━━━━━━━━━━\u001b[0m\u001b[37m\u001b[0m \u001b[1m75s\u001b[0m 390ms/step - accuracy: 0.8559 - loss: 0.3740 - val_accuracy: 0.8116 - val_loss: 0.4868\n",
            "Epoch 4/5\n",
            "\u001b[1m157/157\u001b[0m \u001b[32m━━━━━━━━━━━━━━━━━━━━\u001b[0m\u001b[37m\u001b[0m \u001b[1m81s\u001b[0m 384ms/step - accuracy: 0.8694 - loss: 0.3502 - val_accuracy: 0.8016 - val_loss: 0.5123\n",
            "Epoch 5/5\n",
            "\u001b[1m157/157\u001b[0m \u001b[32m━━━━━━━━━━━━━━━━━━━━\u001b[0m\u001b[37m\u001b[0m \u001b[1m88s\u001b[0m 420ms/step - accuracy: 0.8614 - loss: 0.3686 - val_accuracy: 0.7896 - val_loss: 0.5289\n"
          ]
        }
      ]
    },
    {
      "cell_type": "code",
      "source": [
        "loss, accuracy = model_lstm.evaluate(x_val_pad, y_val)\n",
        "print(f\"Final Validation Accuracy: {accuracy:.4f}\")"
      ],
      "metadata": {
        "colab": {
          "base_uri": "https://localhost:8080/"
        },
        "id": "hfVsuDqs4_H-",
        "outputId": "1541e1ec-f94b-4029-82d5-a17ff5eca8b7"
      },
      "execution_count": 33,
      "outputs": [
        {
          "output_type": "stream",
          "name": "stdout",
          "text": [
            "\u001b[1m157/157\u001b[0m \u001b[32m━━━━━━━━━━━━━━━━━━━━\u001b[0m\u001b[37m\u001b[0m \u001b[1m6s\u001b[0m 39ms/step - accuracy: 0.8018 - loss: 0.5131\n",
            "Final Validation Accuracy: 0.7896\n"
          ]
        }
      ]
    },
    {
      "cell_type": "code",
      "source": [
        "history = history_obj.history\n",
        "plt.plot(history['accuracy'], label='Train Accuracy')\n",
        "plt.plot(history['val_accuracy'], label='Val Accuracy')\n",
        "plt.title('Model Accuracy')\n",
        "plt.xlabel('Epoch')\n",
        "plt.ylabel('Accuracy')\n",
        "plt.legend()\n",
        "plt.show()"
      ],
      "metadata": {
        "colab": {
          "base_uri": "https://localhost:8080/",
          "height": 472
        },
        "id": "81LjHDm17BtI",
        "outputId": "99d17818-7d97-4948-94fa-f6fc53f3dceb"
      },
      "execution_count": 34,
      "outputs": [
        {
          "output_type": "display_data",
          "data": {
            "text/plain": [
              "<Figure size 640x480 with 1 Axes>"
            ],
            "image/png": "[encoded data removed]"
          },
          "metadata": {}
        }
      ]
    },
    {
      "cell_type": "code",
      "source": [],
      "metadata": {
        "id": "luet-nrK75h8"
      },
      "execution_count": null,
      "outputs": []
    }
  ]
}