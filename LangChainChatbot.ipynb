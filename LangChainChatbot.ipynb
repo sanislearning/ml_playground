{
  "nbformat": 4,
  "nbformat_minor": 0,
  "metadata": {
    "colab": {
      "provenance": [],
      "authorship_tag": "ABX9TyO1vrpXnRvLkI9O2GNwl5ML",
      "include_colab_link": true
    },
    "kernelspec": {
      "name": "python3",
      "display_name": "Python 3"
    },
    "language_info": {
      "name": "python"
    }
  },
  "cells": [
    {
      "cell_type": "markdown",
      "metadata": {
        "id": "view-in-github",
        "colab_type": "text"
      },
      "source": [
        "<a href=\"https://colab.research.google.com/github/sanislearning/ml_playground/blob/main/LangChainChatbot.ipynb\" target=\"_parent\"><img src=\"https://colab.research.google.com/assets/colab-badge.svg\" alt=\"Open In Colab\"/></a>"
      ]
    },
    {
      "cell_type": "code",
      "source": [
        "import os\n",
        "import getpass\n",
        "\n",
        "# LangSmith setup\n",
        "os.environ[\"LANGSMITH_TRACING\"] = \"true\"\n",
        "os.environ[\"LANGSMITH_API_KEY\"] = getpass.getpass(\"🔐 Enter your LangSmith API Key: \")\n",
        "os.environ[\"LANGSMITH_PROJECT\"] = getpass.getpass(\"🗂️ Enter your LangSmith project name (or press enter for 'default'): \") or \"default\"\n",
        "\n",
        "# Google Gemini API key setup\n",
        "os.environ[\"GOOGLE_API_KEY\"] = getpass.getpass(\"🔐 Enter your Google Gemini API Key: \")\n"
      ],
      "metadata": {
        "colab": {
          "base_uri": "https://localhost:8080/"
        },
        "id": "_WujSV7RJIXG",
        "outputId": "d82f4120-ad13-48b6-880a-db548cbd6f2b"
      },
      "execution_count": 4,
      "outputs": [
        {
          "name": "stdout",
          "output_type": "stream",
          "text": [
            "🔐 Enter your LangSmith API Key: ··········\n",
            "🗂️ Enter your LangSmith project name (or press enter for 'default'): ··········\n",
            "🔐 Enter your Google Gemini API Key: ··········\n"
          ]
        }
      ]
    },
    {
      "cell_type": "code",
      "source": [
        "from langchain.chat_models import init_chat_model\n",
        "model=init_chat_model(\"gemini-2.0-flash\",model_provider=\"google_genai\")"
      ],
      "metadata": {
        "id": "5fJGV0WpK1pY"
      },
      "execution_count": 7,
      "outputs": []
    },
    {
      "cell_type": "code",
      "source": [
        "from langchain_core.messages import HumanMessage,SystemMessage\n",
        "messages=[\n",
        "    SystemMessage(\"Translate the following from English into Malyalam\"),\n",
        "    HumanMessage('I love my life'),\n",
        "]\n",
        "response=model.invoke(messages)"
      ],
      "metadata": {
        "id": "bEx5FXcDSLON"
      },
      "execution_count": 18,
      "outputs": []
    },
    {
      "cell_type": "code",
      "source": [
        "print(response.content)"
      ],
      "metadata": {
        "colab": {
          "base_uri": "https://localhost:8080/"
        },
        "id": "qDWAeY6cVB88",
        "outputId": "035b699d-82fc-45cc-f50b-344f23d327c7"
      },
      "execution_count": 19,
      "outputs": [
        {
          "output_type": "stream",
          "name": "stdout",
          "text": [
            "എനിക്ക് എന്റെ ജീവിതം ഇഷ്ടമാണ്. (Enikku ente jeevitham ishtamaanu.)\n"
          ]
        }
      ]
    },
    {
      "cell_type": "code",
      "source": [
        "for token in model.stream(messages):    #this lets you stream individual tokens from chat message\n",
        "  print(token.content,end=\"\")"
      ],
      "metadata": {
        "colab": {
          "base_uri": "https://localhost:8080/"
        },
        "id": "owzYEEslYrXp",
        "outputId": "24219d93-293f-419d-ce74-cbb2c985d730"
      },
      "execution_count": 20,
      "outputs": [
        {
          "output_type": "stream",
          "name": "stdout",
          "text": [
            "എനിക്ക് എന്റെ ജീവിതം ഇഷ്ടമാണ്. (Enikku ente jeevitham ishtamanu.)\n"
          ]
        }
      ]
    },
    {
      "cell_type": "markdown",
      "source": [
        "#ChatPromptTemplate"
      ],
      "metadata": {
        "id": "YIkA6bH3bktc"
      }
    },
    {
      "cell_type": "code",
      "source": [
        "from langchain_core.prompts import ChatPromptTemplate\n",
        "\n",
        "system_template=\"Translate the following from English into {language}\"\n",
        "\n",
        "prompt_template=ChatPromptTemplate.from_messages(\n",
        "    [(\"system\",system_template),(\"user\",\"{text}\")]\n",
        ")"
      ],
      "metadata": {
        "id": "OkT-slylZLLH"
      },
      "execution_count": 21,
      "outputs": []
    },
    {
      "cell_type": "code",
      "source": [
        "prompt=prompt_template.invoke({\"language\":\"Malyalam\",\"text\":\"I will attain peaace\"})\n",
        "prompt"
      ],
      "metadata": {
        "colab": {
          "base_uri": "https://localhost:8080/"
        },
        "id": "lZy0LMGMcMT0",
        "outputId": "92899c13-a8d0-4e5f-8254-d01aab214b14"
      },
      "execution_count": 27,
      "outputs": [
        {
          "output_type": "execute_result",
          "data": {
            "text/plain": [
              "ChatPromptValue(messages=[SystemMessage(content='Translate the following from English into Malyalam', additional_kwargs={}, response_metadata={}), HumanMessage(content='I will attain peaace', additional_kwargs={}, response_metadata={})])"
            ]
          },
          "metadata": {},
          "execution_count": 27
        }
      ]
    },
    {
      "cell_type": "code",
      "source": [
        "prompt.to_messages() #converts the prompt value into component messages"
      ],
      "metadata": {
        "colab": {
          "base_uri": "https://localhost:8080/"
        },
        "id": "6W1bgok8cblC",
        "outputId": "a8bd7f84-28c1-40b3-c17d-8e4517883c46"
      },
      "execution_count": 28,
      "outputs": [
        {
          "output_type": "execute_result",
          "data": {
            "text/plain": [
              "[SystemMessage(content='Translate the following from English into Malyalam', additional_kwargs={}, response_metadata={}),\n",
              " HumanMessage(content='I will attain peaace', additional_kwargs={}, response_metadata={})]"
            ]
          },
          "metadata": {},
          "execution_count": 28
        }
      ]
    },
    {
      "cell_type": "code",
      "source": [
        "response=model.invoke(prompt)\n",
        "print(response.content)"
      ],
      "metadata": {
        "colab": {
          "base_uri": "https://localhost:8080/"
        },
        "id": "UX1WnnpzcmVk",
        "outputId": "d5ae5ed0-d9cd-4d7e-d5da-9b0ac9085388"
      },
      "execution_count": 29,
      "outputs": [
        {
          "output_type": "stream",
          "name": "stdout",
          "text": [
            "ഇനിക്ക് സമാധാനം ലഭിക്കും.\n"
          ]
        }
      ]
    },
    {
      "cell_type": "code",
      "source": [],
      "metadata": {
        "id": "IeGskc1nduV7"
      },
      "execution_count": null,
      "outputs": []
    }
  ]
}