{
  "nbformat": 4,
  "nbformat_minor": 0,
  "metadata": {
    "colab": {
      "provenance": [],
      "authorship_tag": "ABX9TyP74MHt89sp6ilLtYA/hq1Z",
      "include_colab_link": true
    },
    "kernelspec": {
      "name": "python3",
      "display_name": "Python 3"
    },
    "language_info": {
      "name": "python"
    }
  },
  "cells": [
    {
      "cell_type": "markdown",
      "metadata": {
        "id": "view-in-github",
        "colab_type": "text"
      },
      "source": [
        "<a href=\"https://colab.research.google.com/github/sanislearning/ml_playground/blob/main/LangChainChatbot.ipynb\" target=\"_parent\"><img src=\"https://colab.research.google.com/assets/colab-badge.svg\" alt=\"Open In Colab\"/></a>"
      ]
    },
    {
      "cell_type": "code",
      "source": [
        "import os\n",
        "import getpass\n",
        "\n",
        "# LangSmith setup\n",
        "os.environ[\"LANGSMITH_TRACING\"] = \"true\"\n",
        "os.environ[\"LANGSMITH_API_KEY\"] = getpass.getpass(\"🔐 Enter your LangSmith API Key: \")\n",
        "os.environ[\"LANGSMITH_PROJECT\"] = getpass.getpass(\"🗂️ Enter your LangSmith project name (or press enter for 'default'): \") or \"default\"\n",
        "\n",
        "# Google Gemini API key setup\n",
        "os.environ[\"GOOGLE_API_KEY\"] = getpass.getpass(\"🔐 Enter your Google Gemini API Key: \")\n"
      ],
      "metadata": {
        "colab": {
          "base_uri": "https://localhost:8080/"
        },
        "id": "_WujSV7RJIXG",
        "outputId": "d82f4120-ad13-48b6-880a-db548cbd6f2b"
      },
      "execution_count": 4,
      "outputs": [
        {
          "name": "stdout",
          "output_type": "stream",
          "text": [
            "🔐 Enter your LangSmith API Key: ··········\n",
            "🗂️ Enter your LangSmith project name (or press enter for 'default'): ··········\n",
            "🔐 Enter your Google Gemini API Key: ··········\n"
          ]
        }
      ]
    },
    {
      "cell_type": "code",
      "source": [
        "from langchain.chat_models import init_chat_model\n",
        "model=init_chat_model(\"gemini-2.0-flash\",model_provider=\"google_genai\")"
      ],
      "metadata": {
        "id": "5fJGV0WpK1pY"
      },
      "execution_count": 7,
      "outputs": []
    },
    {
      "cell_type": "code",
      "source": [
        "from langchain_core.messages import HumanMessage,SystemMessage\n",
        "messages=[\n",
        "    SystemMessage(\"Translate the following from English into Malyalam\"),\n",
        "    HumanMessage('Hello'),\n",
        "]\n",
        "model.invoke(messages)"
      ],
      "metadata": {
        "colab": {
          "base_uri": "https://localhost:8080/"
        },
        "id": "bEx5FXcDSLON",
        "outputId": "91d354c0-720a-4a70-92c9-0396b442f2ee"
      },
      "execution_count": 8,
      "outputs": [
        {
          "output_type": "execute_result",
          "data": {
            "text/plain": [
              "AIMessage(content='ഹലോ (Hello)', additional_kwargs={}, response_metadata={'prompt_feedback': {'block_reason': 0, 'safety_ratings': []}, 'finish_reason': 'STOP', 'model_name': 'gemini-2.0-flash', 'safety_ratings': []}, id='run--8b9aa73a-9a9d-4cab-a1ef-600bae53ade2-0', usage_metadata={'input_tokens': 10, 'output_tokens': 7, 'total_tokens': 17, 'input_token_details': {'cache_read': 0}})"
            ]
          },
          "metadata": {},
          "execution_count": 8
        }
      ]
    },
    {
      "cell_type": "code",
      "source": [],
      "metadata": {
        "id": "qDWAeY6cVB88"
      },
      "execution_count": null,
      "outputs": []
    }
  ]
}